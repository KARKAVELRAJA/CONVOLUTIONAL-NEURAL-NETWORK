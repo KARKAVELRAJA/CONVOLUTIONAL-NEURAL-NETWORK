{
 "cells": [
  {
   "cell_type": "markdown",
   "metadata": {},
   "source": [
    "# Image Classification using Convolutional Neural Network"
   ]
  },
  {
   "cell_type": "code",
   "execution_count": 1,
   "metadata": {},
   "outputs": [],
   "source": [
    "# Importing necessary Libraries\n",
    "import pandas as pd\n",
    "import numpy  as np\n",
    "from keras.models import Sequential\n",
    "from keras.layers import Convolution2D\n",
    "from keras.layers import MaxPooling2D\n",
    "from keras.layers import Flatten\n",
    "from keras.layers import Dense"
   ]
  },
  {
   "cell_type": "code",
   "execution_count": 2,
   "metadata": {},
   "outputs": [],
   "source": [
    "# Rotating, Turning and Flipping our images \n",
    "from keras.preprocessing.image import ImageDataGenerator\n",
    "train_datagen = ImageDataGenerator(rescale = 1./255,shear_range = 0.2,zoom_range = 0.2,horizontal_flip=True)"
   ]
  },
  {
   "cell_type": "code",
   "execution_count": 3,
   "metadata": {},
   "outputs": [
    {
     "name": "stdout",
     "output_type": "stream",
     "text": [
      "Found 8005 images belonging to 2 classes.\n",
      "Found 2023 images belonging to 2 classes.\n"
     ]
    }
   ],
   "source": [
    "# Loading and Pre-processing the dataset\n",
    "\n",
    "test_datagen = ImageDataGenerator(rescale = 1./255)\n",
    "\n",
    "# Creating the Training dataset\n",
    "training_set = train_datagen.flow_from_directory(\"cat_and_dog_datasets/training_set/training_set\",target_size = (64,64),batch_size = 32,class_mode = \"binary\")\n",
    "\n",
    "# Creating the Testing dataset\n",
    "testing_set = test_datagen.flow_from_directory(\"cat_and_dog_datasets/test_set/test_set\",target_size = (64,64),batch_size = 32,class_mode = \"binary\")"
   ]
  },
  {
   "cell_type": "code",
   "execution_count": 4,
   "metadata": {},
   "outputs": [],
   "source": [
    "# Building the Convolutinal Neural Network\n",
    "classifier = Sequential()\n",
    "classifier.add(Convolution2D(32,3,3,input_shape=(64,64,3),activation=\"relu\"))\n",
    "classifier.add(MaxPooling2D(pool_size=(2,2)))\n",
    "classifier.add(Flatten())\n",
    "classifier.add(Dense(128,activation=\"relu\"))\n",
    "classifier.add(Dense(1,activation=\"sigmoid\"))"
   ]
  },
  {
   "cell_type": "code",
   "execution_count": 5,
   "metadata": {},
   "outputs": [],
   "source": [
    "# Compiling the CNN Model\n",
    "classifier.compile(loss=\"binary_crossentropy\",optimizer=\"adam\",metrics=[\"accuracy\"])"
   ]
  },
  {
   "cell_type": "code",
   "execution_count": 6,
   "metadata": {},
   "outputs": [
    {
     "name": "stdout",
     "output_type": "stream",
     "text": [
      "Epoch 1/25\n",
      "10/10 [==============================] - 15s 1s/step - loss: 0.7321 - accuracy: 0.5125 - val_loss: 0.6867 - val_accuracy: 0.5312\n",
      "Epoch 2/25\n",
      "10/10 [==============================] - 12s 1s/step - loss: 0.6985 - accuracy: 0.4875 - val_loss: 0.6699 - val_accuracy: 0.5938\n",
      "Epoch 3/25\n",
      "10/10 [==============================] - 11s 1s/step - loss: 0.6859 - accuracy: 0.5156 - val_loss: 0.6897 - val_accuracy: 0.5312\n",
      "Epoch 4/25\n",
      "10/10 [==============================] - 10s 1s/step - loss: 0.6809 - accuracy: 0.5688 - val_loss: 0.6712 - val_accuracy: 0.5781\n",
      "Epoch 5/25\n",
      "10/10 [==============================] - 10s 991ms/step - loss: 0.6786 - accuracy: 0.5688 - val_loss: 0.6079 - val_accuracy: 0.7031\n",
      "Epoch 6/25\n",
      "10/10 [==============================] - 10s 1s/step - loss: 0.6777 - accuracy: 0.5500 - val_loss: 0.6662 - val_accuracy: 0.6406\n",
      "Epoch 7/25\n",
      "10/10 [==============================] - 10s 976ms/step - loss: 0.6631 - accuracy: 0.6187 - val_loss: 0.6701 - val_accuracy: 0.5938\n",
      "Epoch 8/25\n",
      "10/10 [==============================] - 9s 985ms/step - loss: 0.6781 - accuracy: 0.5594 - val_loss: 0.6781 - val_accuracy: 0.5312\n",
      "Epoch 9/25\n",
      "10/10 [==============================] - 9s 914ms/step - loss: 0.6797 - accuracy: 0.5688 - val_loss: 0.6775 - val_accuracy: 0.6406\n",
      "Epoch 10/25\n",
      "10/10 [==============================] - 9s 881ms/step - loss: 0.6842 - accuracy: 0.5406 - val_loss: 0.6959 - val_accuracy: 0.4531\n",
      "Epoch 11/25\n",
      "10/10 [==============================] - 8s 831ms/step - loss: 0.6642 - accuracy: 0.6313 - val_loss: 0.6702 - val_accuracy: 0.5781\n",
      "Epoch 12/25\n",
      "10/10 [==============================] - 7s 711ms/step - loss: 0.6386 - accuracy: 0.6219 - val_loss: 0.7016 - val_accuracy: 0.4688\n",
      "Epoch 13/25\n",
      "10/10 [==============================] - 8s 839ms/step - loss: 0.6544 - accuracy: 0.6219 - val_loss: 0.6510 - val_accuracy: 0.5625\n",
      "Epoch 14/25\n",
      "10/10 [==============================] - 7s 705ms/step - loss: 0.6479 - accuracy: 0.6031 - val_loss: 0.5917 - val_accuracy: 0.7344\n",
      "Epoch 15/25\n",
      "10/10 [==============================] - 7s 728ms/step - loss: 0.6597 - accuracy: 0.5719 - val_loss: 0.6259 - val_accuracy: 0.6406\n",
      "Epoch 16/25\n",
      "10/10 [==============================] - 7s 713ms/step - loss: 0.6467 - accuracy: 0.5938 - val_loss: 0.6975 - val_accuracy: 0.5000\n",
      "Epoch 17/25\n",
      "10/10 [==============================] - 8s 820ms/step - loss: 0.6605 - accuracy: 0.5875 - val_loss: 0.6271 - val_accuracy: 0.7188\n",
      "Epoch 18/25\n",
      "10/10 [==============================] - 7s 772ms/step - loss: 0.6280 - accuracy: 0.6587 - val_loss: 0.6109 - val_accuracy: 0.7031\n",
      "Epoch 19/25\n",
      "10/10 [==============================] - 9s 925ms/step - loss: 0.6250 - accuracy: 0.6687 - val_loss: 0.6512 - val_accuracy: 0.6562\n",
      "Epoch 20/25\n",
      "10/10 [==============================] - 8s 803ms/step - loss: 0.6513 - accuracy: 0.6313 - val_loss: 0.6911 - val_accuracy: 0.5312\n",
      "Epoch 21/25\n",
      "10/10 [==============================] - 6s 592ms/step - loss: 0.6245 - accuracy: 0.6500 - val_loss: 0.6313 - val_accuracy: 0.6562\n",
      "Epoch 22/25\n",
      "10/10 [==============================] - 6s 570ms/step - loss: 0.6239 - accuracy: 0.6719 - val_loss: 0.6444 - val_accuracy: 0.6250\n",
      "Epoch 23/25\n",
      "10/10 [==============================] - 6s 601ms/step - loss: 0.6077 - accuracy: 0.6719 - val_loss: 0.6021 - val_accuracy: 0.6875\n",
      "Epoch 24/25\n",
      "10/10 [==============================] - 5s 549ms/step - loss: 0.6227 - accuracy: 0.6655 - val_loss: 0.6377 - val_accuracy: 0.6406\n",
      "Epoch 25/25\n",
      "10/10 [==============================] - 5s 512ms/step - loss: 0.6186 - accuracy: 0.6781 - val_loss: 0.7091 - val_accuracy: 0.6406\n"
     ]
    },
    {
     "data": {
      "text/plain": [
       "<keras.callbacks.History at 0xb54bd448e0>"
      ]
     },
     "execution_count": 6,
     "metadata": {},
     "output_type": "execute_result"
    }
   ],
   "source": [
    "# Training the CNN Model\n",
    "classifier.fit(training_set,steps_per_epoch=10,epochs=25,validation_data=testing_set,validation_steps=2)"
   ]
  },
  {
   "cell_type": "code",
   "execution_count": 13,
   "metadata": {},
   "outputs": [
    {
     "name": "stdout",
     "output_type": "stream",
     "text": [
      "1/1 [==============================] - 0s 21ms/step\n",
      "cat\n",
      "probability = 0.5015205442905426\n",
      "1/1 [==============================] - 0s 21ms/step\n",
      "dog\n",
      "probability = 0.5751044\n"
     ]
    }
   ],
   "source": [
    "# Classifying the New Images using the Trained CNN Model\n",
    "import tensorflow as tf\n",
    "\n",
    "def predict_image(imagepath):\n",
    "    \n",
    "    path    = imagepath\n",
    "    predict = tf.keras.preprocessing.image.load_img(path, target_size=(64,64))\n",
    "    predict_modified = tf.keras.preprocessing.image.img_to_array(predict)\n",
    "    predict_modified = predict_modified / 255\n",
    "    predict_modified = np.expand_dims(predict_modified,axis=0)\n",
    "    \n",
    "    result = classifier.predict(predict_modified)\n",
    "    \n",
    "    if result[0][0] >= 0.5:\n",
    "        prediction = \"dog\"\n",
    "        probability = result[0][0]\n",
    "    else:\n",
    "        prediction = \"cat\"\n",
    "        probability = 1 - result[0][0]\n",
    "    print(prediction)\n",
    "    print(\"probability = \"+str(probability))\n",
    "\n",
    "predict_image(\"cat_and_dog_datasets/new_images/cat.5.jpg\")\n",
    "predict_image(\"cat_and_dog_datasets/new_images/dog.4001.jpg\")        "
   ]
  }
 ],
 "metadata": {
  "kernelspec": {
   "display_name": "Python 3",
   "language": "python",
   "name": "python3"
  },
  "language_info": {
   "codemirror_mode": {
    "name": "ipython",
    "version": 3
   },
   "file_extension": ".py",
   "mimetype": "text/x-python",
   "name": "python",
   "nbconvert_exporter": "python",
   "pygments_lexer": "ipython3",
   "version": "3.8.5"
  }
 },
 "nbformat": 4,
 "nbformat_minor": 4
}
