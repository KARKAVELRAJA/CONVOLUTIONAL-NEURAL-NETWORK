{
 "cells": [
  {
   "cell_type": "markdown",
   "metadata": {},
   "source": [
    "# Image Classification using Convolutional Neural Network"
   ]
  },
  {
   "cell_type": "code",
   "execution_count": 121,
   "metadata": {},
   "outputs": [],
   "source": [
    "# Importing necessary Libraries\n",
    "import pandas as pd\n",
    "import numpy  as np\n",
    "from keras.models import Sequential\n",
    "from keras.layers import Convolution2D\n",
    "from keras.layers import MaxPooling2D\n",
    "from keras.layers import Flatten\n",
    "from keras.layers import Dense"
   ]
  },
  {
   "cell_type": "code",
   "execution_count": 122,
   "metadata": {},
   "outputs": [],
   "source": [
    "# Rotating, Turning and Flipping our images \n",
    "from keras.preprocessing.image import ImageDataGenerator\n",
    "train_datagen = ImageDataGenerator(rescale = 1./255,shear_range = 0.2,zoom_range = 0.2,horizontal_flip=True)"
   ]
  },
  {
   "cell_type": "code",
   "execution_count": 123,
   "metadata": {},
   "outputs": [
    {
     "name": "stdout",
     "output_type": "stream",
     "text": [
      "Found 8005 images belonging to 2 classes.\n",
      "Found 2023 images belonging to 2 classes.\n"
     ]
    }
   ],
   "source": [
    "# Loading and Pre-processing the dataset\n",
    "\n",
    "train_datagen = ImageDataGenerator(rescale = 1./255)\n",
    "\n",
    "# Creating the Training dataset\n",
    "training_set = train_datagen.flow_from_directory(\"cat_and_dog_datasets/training_set/training_set\",target_size = (64,64),batch_size = 32,class_mode = \"binary\")\n",
    "\n",
    "# Creating the Testing dataset\n",
    "testing_set = train_datagen.flow_from_directory(\"cat_and_dog_datasets/test_set/test_set\",target_size = (64,64),batch_size = 32,class_mode = \"binary\")"
   ]
  },
  {
   "cell_type": "code",
   "execution_count": 124,
   "metadata": {},
   "outputs": [],
   "source": [
    "# Building the Convolutinal Neural Network\n",
    "classifier = Sequential()\n",
    "classifier.add(Convolution2D(32,3,3,input_shape=(64,64,3),activation=\"relu\"))\n",
    "classifier.add(MaxPooling2D(pool_size=(2,2)))\n",
    "classifier.add(Flatten())\n",
    "classifier.add(Dense(128,activation=\"relu\"))\n",
    "classifier.add(Dense(1,activation=\"sigmoid\"))"
   ]
  },
  {
   "cell_type": "code",
   "execution_count": 125,
   "metadata": {},
   "outputs": [],
   "source": [
    "# Compiling the CNN Model\n",
    "classifier.compile(loss=\"binary_crossentropy\",optimizer=\"adam\",metrics=[\"accuracy\"])"
   ]
  },
  {
   "cell_type": "code",
   "execution_count": 7,
   "metadata": {},
   "outputs": [
    {
     "name": "stdout",
     "output_type": "stream",
     "text": [
      "Epoch 1/5\n",
      "100/100 [==============================] - 16s 161ms/step - loss: 0.5366 - accuracy: 0.7331 - val_loss: 0.5342 - val_accuracy: 0.7391\n",
      "Epoch 2/5\n",
      "100/100 [==============================] - 15s 147ms/step - loss: 0.5197 - accuracy: 0.7494 - val_loss: 0.5524 - val_accuracy: 0.7250\n",
      "Epoch 3/5\n",
      "100/100 [==============================] - 14s 141ms/step - loss: 0.5075 - accuracy: 0.7482 - val_loss: 0.5615 - val_accuracy: 0.7391\n",
      "Epoch 4/5\n",
      "100/100 [==============================] - 15s 146ms/step - loss: 0.4902 - accuracy: 0.7553 - val_loss: 0.5782 - val_accuracy: 0.7047\n",
      "Epoch 5/5\n",
      "100/100 [==============================] - 15s 151ms/step - loss: 0.4768 - accuracy: 0.7772 - val_loss: 0.5683 - val_accuracy: 0.7297\n"
     ]
    },
    {
     "data": {
      "text/plain": [
       "<keras.callbacks.History at 0x1914d16d00>"
      ]
     },
     "execution_count": 7,
     "metadata": {},
     "output_type": "execute_result"
    }
   ],
   "source": [
    "# Training the CNN Model\n",
    "classifier.fit(training_set,steps_per_epoch=100,epochs=5,validation_data=testing_set,validation_steps=20)"
   ]
  },
  {
   "cell_type": "code",
   "execution_count": 247,
   "metadata": {},
   "outputs": [
    {
     "name": "stdout",
     "output_type": "stream",
     "text": [
      "1/1 [==============================] - 0s 27ms/step\n",
      "cat\n",
      "probability = 0.5026164\n",
      "1/1 [==============================] - 0s 22ms/step\n",
      "dog\n",
      "probability = 0.502020388841629\n"
     ]
    }
   ],
   "source": [
    "# Classifying the New Images using the Trained CNN Model\n",
    "import tensorflow as tf\n",
    "\n",
    "def predict_image(imagepath):\n",
    "    \n",
    "    path    = imagepath\n",
    "    predict = tf.keras.preprocessing.image.load_img(path, target_size=(64,64))\n",
    "    predict_modified = tf.keras.preprocessing.image.img_to_array(predict)\n",
    "    predict_modified = predict_modified / 255\n",
    "    predict_modified = np.expand_dims(predict_modified,axis=0)\n",
    "    \n",
    "    result = classifier.predict(predict_modified)\n",
    "    \n",
    "    if result[0][0] >= 0.5:\n",
    "        prediction = \"cat\"\n",
    "        probability = result[0][0]\n",
    "    else:\n",
    "        prediction = \"dog\"\n",
    "        probability = 1 - result[0][0]\n",
    "    print(prediction)\n",
    "    print(\"probability = \"+str(probability))\n",
    "\n",
    "predict_image(\"cat_and_dog_datasets/new_images/cat.1.jpg\")\n",
    "predict_image(\"cat_and_dog_datasets/new_images/dog.4001.jpg\")        "
   ]
  }
 ],
 "metadata": {
  "kernelspec": {
   "display_name": "Python 3",
   "language": "python",
   "name": "python3"
  },
  "language_info": {
   "codemirror_mode": {
    "name": "ipython",
    "version": 3
   },
   "file_extension": ".py",
   "mimetype": "text/x-python",
   "name": "python",
   "nbconvert_exporter": "python",
   "pygments_lexer": "ipython3",
   "version": "3.8.5"
  }
 },
 "nbformat": 4,
 "nbformat_minor": 4
}
