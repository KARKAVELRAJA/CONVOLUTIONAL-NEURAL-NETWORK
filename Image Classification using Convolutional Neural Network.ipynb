{
 "cells": [
  {
   "cell_type": "markdown",
   "metadata": {},
   "source": [
    "# Image Classification using Convolutional Neural Network"
   ]
  },
  {
   "cell_type": "code",
   "execution_count": 1,
   "metadata": {},
   "outputs": [],
   "source": [
    "# Importing necessary Libraries\n",
    "import pandas as pd\n",
    "import numpy  as np\n",
    "from keras.models import Sequential\n",
    "from keras.layers import Convolution2D\n",
    "from keras.layers import MaxPooling2D\n",
    "from keras.layers import Flatten\n",
    "from keras.layers import Dense"
   ]
  },
  {
   "cell_type": "code",
   "execution_count": 2,
   "metadata": {},
   "outputs": [],
   "source": [
    "# Rotating, Turning and Flipping our images \n",
    "from keras.preprocessing.image import ImageDataGenerator\n",
    "train_datagen = ImageDataGenerator(rescale = 1./255,shear_range = 0.2,zoom_range = 0.2,horizontal_flip=True)"
   ]
  },
  {
   "cell_type": "code",
   "execution_count": 3,
   "metadata": {},
   "outputs": [
    {
     "name": "stdout",
     "output_type": "stream",
     "text": [
      "Found 8005 images belonging to 2 classes.\n",
      "Found 2023 images belonging to 2 classes.\n"
     ]
    }
   ],
   "source": [
    "# Loading and Pre-processing the dataset\n",
    "\n",
    "test_datagen = ImageDataGenerator(rescale = 1./255)\n",
    "\n",
    "# Creating the Training dataset\n",
    "training_set = train_datagen.flow_from_directory(\"cat_and_dog_datasets/training_set/training_set\",target_size = (64,64),batch_size = 32,class_mode = \"binary\",color_mode=\"grayscale\")\n",
    "\n",
    "# Creating the Testing dataset\n",
    "testing_set = test_datagen.flow_from_directory(\"cat_and_dog_datasets/test_set/test_set\",target_size = (64,64),batch_size = 32,class_mode = \"binary\",color_mode=\"grayscale\")"
   ]
  },
  {
   "cell_type": "code",
   "execution_count": 4,
   "metadata": {},
   "outputs": [],
   "source": [
    "# Building the Convolutinal Neural Network\n",
    "classifier = Sequential()\n",
    "classifier.add(Convolution2D(32,3,3,input_shape=(64,64,1),activation=\"relu\"))\n",
    "classifier.add(MaxPooling2D(pool_size=(2,2)))\n",
    "classifier.add(Flatten())\n",
    "classifier.add(Dense(128,activation=\"relu\"))\n",
    "classifier.add(Dense(1,activation=\"sigmoid\"))"
   ]
  },
  {
   "cell_type": "code",
   "execution_count": 5,
   "metadata": {},
   "outputs": [],
   "source": [
    "# Compiling the CNN Model\n",
    "classifier.compile(loss=\"binary_crossentropy\",optimizer=\"adam\",metrics=[\"accuracy\"])"
   ]
  },
  {
   "cell_type": "code",
   "execution_count": 6,
   "metadata": {},
   "outputs": [
    {
     "name": "stdout",
     "output_type": "stream",
     "text": [
      "Epoch 1/10\n",
      "100/100 [==============================] - 19s 182ms/step - loss: 0.6936 - accuracy: 0.5203 - val_loss: 0.6910 - val_accuracy: 0.4900\n",
      "Epoch 2/10\n",
      "100/100 [==============================] - 19s 187ms/step - loss: 0.6751 - accuracy: 0.5816 - val_loss: 0.6680 - val_accuracy: 0.5450\n",
      "Epoch 3/10\n",
      "100/100 [==============================] - 19s 186ms/step - loss: 0.6558 - accuracy: 0.6136 - val_loss: 0.6303 - val_accuracy: 0.6562\n",
      "Epoch 4/10\n",
      "100/100 [==============================] - 18s 181ms/step - loss: 0.6382 - accuracy: 0.6375 - val_loss: 0.6301 - val_accuracy: 0.6400\n",
      "Epoch 5/10\n",
      "100/100 [==============================] - 18s 176ms/step - loss: 0.6252 - accuracy: 0.6511 - val_loss: 0.6216 - val_accuracy: 0.6550\n",
      "Epoch 6/10\n",
      "100/100 [==============================] - 19s 189ms/step - loss: 0.6073 - accuracy: 0.6644 - val_loss: 0.6296 - val_accuracy: 0.6488\n",
      "Epoch 7/10\n",
      "100/100 [==============================] - 18s 178ms/step - loss: 0.5999 - accuracy: 0.6719 - val_loss: 0.6402 - val_accuracy: 0.6400\n",
      "Epoch 8/10\n",
      "100/100 [==============================] - 17s 174ms/step - loss: 0.5924 - accuracy: 0.6845 - val_loss: 0.5876 - val_accuracy: 0.6950\n",
      "Epoch 9/10\n",
      "100/100 [==============================] - 17s 173ms/step - loss: 0.5895 - accuracy: 0.6928 - val_loss: 0.5789 - val_accuracy: 0.6938\n",
      "Epoch 10/10\n",
      "100/100 [==============================] - 18s 179ms/step - loss: 0.5845 - accuracy: 0.6878 - val_loss: 0.6251 - val_accuracy: 0.6612\n"
     ]
    },
    {
     "data": {
      "text/plain": [
       "<keras.callbacks.History at 0xd917c8ce50>"
      ]
     },
     "execution_count": 6,
     "metadata": {},
     "output_type": "execute_result"
    }
   ],
   "source": [
    "# Training the CNN Model\n",
    "from keras import callbacks\n",
    "earlystopping = callbacks.EarlyStopping(monitor=\"val_loss\",mode=\"min\",patience=5,restore_best_weights=True,verbose = 1)\n",
    "classifier.fit(training_set,steps_per_epoch=100,epochs=10,validation_data=testing_set,validation_steps=25,callbacks=[earlystopping])"
   ]
  },
  {
   "cell_type": "code",
   "execution_count": 13,
   "metadata": {},
   "outputs": [
    {
     "name": "stdout",
     "output_type": "stream",
     "text": [
      "1/1 [==============================] - 0s 22ms/step\n",
      "cat\n",
      "probability = 0.508996844291687\n",
      "1/1 [==============================] - 0s 21ms/step\n",
      "dog\n",
      "probability = 0.7277723\n"
     ]
    }
   ],
   "source": [
    "# Classifying the New Images using the Trained CNN Model\n",
    "import tensorflow as tf\n",
    "\n",
    "def predict_image(imagepath):\n",
    "    \n",
    "    path    = imagepath\n",
    "    predict = tf.keras.preprocessing.image.load_img(path, target_size=(64,64),color_mode=\"grayscale\")\n",
    "    predict_modified = tf.keras.preprocessing.image.img_to_array(predict)\n",
    "    predict_modified = predict_modified / 255\n",
    "    predict_modified = np.expand_dims(predict_modified,axis=0)\n",
    "    \n",
    "    result = classifier.predict(predict_modified)\n",
    "    \n",
    "    if result[0][0] > 0.5:\n",
    "        prediction = \"dog\"\n",
    "        probability = result[0][0]\n",
    "    else:\n",
    "        prediction = \"cat\"\n",
    "        probability = 1 - result[0][0]\n",
    "    print(prediction)\n",
    "    print(\"probability = \"+str(probability))\n",
    "\n",
    "predict_image(\"cat_and_dog_datasets/new_images/cat.1.jpg\")\n",
    "predict_image(\"cat_and_dog_datasets/new_images/dog.4001.jpg\")        "
   ]
  }
 ],
 "metadata": {
  "kernelspec": {
   "display_name": "Python 3",
   "language": "python",
   "name": "python3"
  },
  "language_info": {
   "codemirror_mode": {
    "name": "ipython",
    "version": 3
   },
   "file_extension": ".py",
   "mimetype": "text/x-python",
   "name": "python",
   "nbconvert_exporter": "python",
   "pygments_lexer": "ipython3",
   "version": "3.8.5"
  }
 },
 "nbformat": 4,
 "nbformat_minor": 4
}
